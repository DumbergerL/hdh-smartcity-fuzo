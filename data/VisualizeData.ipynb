{
 "cells": [
  {
   "cell_type": "code",
   "execution_count": 1,
   "metadata": {},
   "outputs": [],
   "source": [
    "import json\n",
    "import matplotlib.pyplot as plt\n",
    "import matplotlib.dates as md\n",
    "import datetime"
   ]
  },
  {
   "cell_type": "code",
   "execution_count": 2,
   "metadata": {},
   "outputs": [],
   "source": [
    "SENSOR_NAMES = ['Arkaden', 'FuZo_Eugen-Jaekle-Platz', 'FuZo_Olgastr', 'Brenzstr', 'Knoepfle_Nord', 'Knoepfle_Ost']\n"
   ]
  },
  {
   "cell_type": "code",
   "execution_count": 3,
   "metadata": {},
   "outputs": [],
   "source": [
    "def filterDateRange(dataPoint, fromDateString, toDateString):\n",
    "    fromDate = datetime.strptime(fromDateString, '%Y-%m-%d %H:%M:%S')\n",
    "    lastDate = datetime.strptime(toDateString, '%Y-%m-%d %H:%M:%S')\n",
    "\n",
    "    datetimeValue = datetime.strptime(dataPoint['datetime'], '%Y-%m-%d %H:%M:%S')\n",
    "\n",
    "    return datetimeValue > fromDate and datetimeValue < lastDate\n",
    "\n",
    "def createAvgValue(dataPoints):\n",
    "    numberOfValuesToCombine = 3\n",
    "\n",
    "    maxIndex = len(dataPoints) - numberOfValuesToCombine\n",
    "\n",
    "    values = []\n",
    "\n",
    "    for index in range(maxIndex):\n",
    "        sumVal = 0\n",
    "        for nThValue in range(numberOfValuesToCombine):\n",
    "            sumVal += int(dataPoints[index + nThValue]['person.in'])\n",
    "        \n",
    "        values.append({\n",
    "            \"datetime\": dataPoints[index]['datetime'],\n",
    "            \"value\": (sumVal / numberOfValuesToCombine)\n",
    "        })\n",
    "\n",
    "    return values"
   ]
  },
  {
   "cell_type": "code",
   "execution_count": 4,
   "metadata": {},
   "outputs": [
    {
     "ename": "AttributeError",
     "evalue": "module 'datetime' has no attribute 'strptime'",
     "output_type": "error",
     "traceback": [
      "\u001b[1;31m---------------------------------------------------------------------------\u001b[0m",
      "\u001b[1;31mAttributeError\u001b[0m                            Traceback (most recent call last)",
      "Cell \u001b[1;32mIn[4], line 9\u001b[0m\n\u001b[0;32m      6\u001b[0m dataPoints \u001b[38;5;241m=\u001b[39m \u001b[38;5;28mlist\u001b[39m(data[\u001b[38;5;124m'\u001b[39m\u001b[38;5;124msingleDataPoints\u001b[39m\u001b[38;5;124m'\u001b[39m]\u001b[38;5;241m.\u001b[39mvalues())\n\u001b[0;32m      8\u001b[0m \u001b[38;5;66;03m#dataPointsCropped = dataPoints[:220:5]\u001b[39;00m\n\u001b[1;32m----> 9\u001b[0m dataPointsCropped \u001b[38;5;241m=\u001b[39m [d \u001b[38;5;28;01mfor\u001b[39;00m d \u001b[38;5;129;01min\u001b[39;00m dataPoints \u001b[38;5;28;01mif\u001b[39;00m \u001b[43mfilterDateRange\u001b[49m\u001b[43m(\u001b[49m\u001b[43md\u001b[49m\u001b[43m,\u001b[49m\u001b[43m \u001b[49m\u001b[38;5;124;43m\"\u001b[39;49m\u001b[38;5;124;43m2023-12-23 00:00:00\u001b[39;49m\u001b[38;5;124;43m\"\u001b[39;49m\u001b[43m,\u001b[49m\u001b[43m \u001b[49m\u001b[38;5;124;43m\"\u001b[39;49m\u001b[38;5;124;43m2023-12-25 03:00:00\u001b[39;49m\u001b[38;5;124;43m\"\u001b[39;49m\u001b[43m)\u001b[49m]\n\u001b[0;32m     11\u001b[0m x \u001b[38;5;241m=\u001b[39m []\n\u001b[0;32m     12\u001b[0m y \u001b[38;5;241m=\u001b[39m []\n",
      "Cell \u001b[1;32mIn[3], line 2\u001b[0m, in \u001b[0;36mfilterDateRange\u001b[1;34m(dataPoint, fromDateString, toDateString)\u001b[0m\n\u001b[0;32m      1\u001b[0m \u001b[38;5;28;01mdef\u001b[39;00m \u001b[38;5;21mfilterDateRange\u001b[39m(dataPoint, fromDateString, toDateString):\n\u001b[1;32m----> 2\u001b[0m     fromDate \u001b[38;5;241m=\u001b[39m \u001b[43mdatetime\u001b[49m\u001b[38;5;241;43m.\u001b[39;49m\u001b[43mstrptime\u001b[49m(fromDateString, \u001b[38;5;124m'\u001b[39m\u001b[38;5;124m%\u001b[39m\u001b[38;5;124mY-\u001b[39m\u001b[38;5;124m%\u001b[39m\u001b[38;5;124mm-\u001b[39m\u001b[38;5;132;01m%d\u001b[39;00m\u001b[38;5;124m \u001b[39m\u001b[38;5;124m%\u001b[39m\u001b[38;5;124mH:\u001b[39m\u001b[38;5;124m%\u001b[39m\u001b[38;5;124mM:\u001b[39m\u001b[38;5;124m%\u001b[39m\u001b[38;5;124mS\u001b[39m\u001b[38;5;124m'\u001b[39m)\n\u001b[0;32m      3\u001b[0m     lastDate \u001b[38;5;241m=\u001b[39m datetime\u001b[38;5;241m.\u001b[39mstrptime(toDateString, \u001b[38;5;124m'\u001b[39m\u001b[38;5;124m%\u001b[39m\u001b[38;5;124mY-\u001b[39m\u001b[38;5;124m%\u001b[39m\u001b[38;5;124mm-\u001b[39m\u001b[38;5;132;01m%d\u001b[39;00m\u001b[38;5;124m \u001b[39m\u001b[38;5;124m%\u001b[39m\u001b[38;5;124mH:\u001b[39m\u001b[38;5;124m%\u001b[39m\u001b[38;5;124mM:\u001b[39m\u001b[38;5;124m%\u001b[39m\u001b[38;5;124mS\u001b[39m\u001b[38;5;124m'\u001b[39m)\n\u001b[0;32m      5\u001b[0m     datetimeValue \u001b[38;5;241m=\u001b[39m datetime\u001b[38;5;241m.\u001b[39mstrptime(dataPoint[\u001b[38;5;124m'\u001b[39m\u001b[38;5;124mdatetime\u001b[39m\u001b[38;5;124m'\u001b[39m], \u001b[38;5;124m'\u001b[39m\u001b[38;5;124m%\u001b[39m\u001b[38;5;124mY-\u001b[39m\u001b[38;5;124m%\u001b[39m\u001b[38;5;124mm-\u001b[39m\u001b[38;5;132;01m%d\u001b[39;00m\u001b[38;5;124m \u001b[39m\u001b[38;5;124m%\u001b[39m\u001b[38;5;124mH:\u001b[39m\u001b[38;5;124m%\u001b[39m\u001b[38;5;124mM:\u001b[39m\u001b[38;5;124m%\u001b[39m\u001b[38;5;124mS\u001b[39m\u001b[38;5;124m'\u001b[39m)\n",
      "\u001b[1;31mAttributeError\u001b[0m: module 'datetime' has no attribute 'strptime'"
     ]
    }
   ],
   "source": [
    "\n",
    "\n",
    "for sensorName in SENSOR_NAMES:    \n",
    "    \n",
    "    with open(sensorName + \".json\") as jsonFile:\n",
    "        data = json.load(jsonFile)\n",
    "        \n",
    "        dataPoints = list(data['singleDataPoints'].values())\n",
    "        \n",
    "        #dataPointsCropped = dataPoints[:220:5]\n",
    "        dataPointsCropped = [d for d in dataPoints if filterDateRange(d, \"2023-12-23 00:00:00\", \"2023-12-25 03:00:00\")]\n",
    "\n",
    "        x = []\n",
    "        y = []\n",
    "\n",
    "        for dataPoint in dataPointsCropped:\n",
    "            y.append(dataPoint['person.in'])\n",
    "            datetimeValue = datetime.strptime(dataPoint['datetime'], '%Y-%m-%d %H:%M:%S')\n",
    "            x.append(datetimeValue)\n",
    "\n",
    "        plt.plot(x, y, label=sensorName)\n",
    "\n",
    "leg = plt.legend(loc='upper right')\n",
    "ax=plt.gca()\n",
    "xfmt = md.DateFormatter('%Y-%m-%d %H:%M:%S')\n",
    "ax.xaxis.set_major_formatter(xfmt)\n",
    "\n",
    "ax.xaxis.set_major_locator(plt.MaxNLocator(12))\n",
    "ax.yaxis.set_major_locator(plt.MaxNLocator(3))\n",
    "\n",
    "plt.xticks(rotation=90)\n",
    "\n",
    "plt.show()\n",
    "\n",
    "\n",
    "###########################################################\n",
    "\n",
    "\n",
    "for sensorName in SENSOR_NAMES:    \n",
    "    \n",
    "    with open(sensorName + \".json\") as jsonFile:\n",
    "        data = json.load(jsonFile)\n",
    "        \n",
    "        dataPoints = list(data['singleDataPoints'].values())\n",
    "        \n",
    "        #dataPointsCropped = dataPoints[:220:5]\n",
    "        dataPointsCropped = [d for d in dataPoints if filterDateRange(d, \"2023-12-23 00:00:00\", \"2023-12-25 03:00:00\")]\n",
    "        avgValue = createAvgValue(dataPointsCropped)\n",
    "\n",
    "        x = []\n",
    "        y = []\n",
    "\n",
    "        for dataPoint in avgValue:\n",
    "            y.append(dataPoint['value'])\n",
    "            datetimeValue = datetime.strptime(dataPoint['datetime'], '%Y-%m-%d %H:%M:%S')\n",
    "            x.append(datetimeValue)\n",
    "\n",
    "        plt.plot(x, y, label=sensorName)\n",
    "\n",
    "leg = plt.legend(loc='upper right')\n",
    "ax=plt.gca()\n",
    "xfmt = md.DateFormatter('%Y-%m-%d %H:%M:%S')\n",
    "ax.xaxis.set_major_formatter(xfmt)\n",
    "\n",
    "ax.xaxis.set_major_locator(plt.MaxNLocator(12))\n",
    "ax.yaxis.set_major_locator(plt.MaxNLocator(3))\n",
    "\n",
    "plt.xticks(rotation=90)\n",
    "\n",
    "plt.show()"
   ]
  },
  {
   "cell_type": "code",
   "execution_count": null,
   "metadata": {},
   "outputs": [],
   "source": []
  }
 ],
 "metadata": {
  "kernelspec": {
   "display_name": "Python 3",
   "language": "python",
   "name": "python3"
  },
  "language_info": {
   "codemirror_mode": {
    "name": "ipython",
    "version": 3
   },
   "file_extension": ".py",
   "mimetype": "text/x-python",
   "name": "python",
   "nbconvert_exporter": "python",
   "pygments_lexer": "ipython3",
   "version": "3.12.5"
  }
 },
 "nbformat": 4,
 "nbformat_minor": 2
}
