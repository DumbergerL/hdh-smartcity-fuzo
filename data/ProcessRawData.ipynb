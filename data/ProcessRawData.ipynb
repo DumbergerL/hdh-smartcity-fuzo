{
 "cells": [
  {
   "cell_type": "code",
   "execution_count": 24,
   "metadata": {},
   "outputs": [],
   "source": [
    "import json\n",
    "import os.path\n",
    "import datetime"
   ]
  },
  {
   "cell_type": "code",
   "execution_count": 25,
   "metadata": {},
   "outputs": [],
   "source": [
    "DATA_JUNKS = [\n",
    "    {\n",
    "        'prefix': '2022-Q4',\n",
    "        'first_date': '2022-10-01',\n",
    "        'last_date': '2022-12-31'\n",
    "    },\n",
    "    {\n",
    "        'prefix': '2023-Q1',\n",
    "        'first_date': '2023-01-01',\n",
    "        'last_date': '2023-03-31'\n",
    "    },\n",
    "    {\n",
    "        'prefix': '2023-Q2',\n",
    "        'first_date': '2023-04-01',\n",
    "        'last_date': '2023-06-30'\n",
    "    },\n",
    "    {\n",
    "        'prefix': '2023-Q3',\n",
    "        'first_date': '2023-07-01',\n",
    "        'last_date': '2023-09-30'\n",
    "    },    \n",
    "    {\n",
    "        'prefix': '2023-Q4',\n",
    "        'first_date': '2023-10-01',\n",
    "        'last_date': '2023-12-31'\n",
    "    },\n",
    "]\n",
    "\n",
    "SENSOR_NAMES = ['Arkaden', 'FuZo_Eugen-Jaekle-Platz', 'FuZo_Olgastr', 'Brenzstr', 'Knoepfle_Nord', 'Knoepfle_Ost']\n",
    "\n",
    "PATH_RAW_DATA = '../raw-data/'\n",
    "\n",
    "VALID_VALUE_KEYS = ['bicycle.in', 'bicycle.out', 'person.in', 'person.out']"
   ]
  },
  {
   "cell_type": "markdown",
   "metadata": {},
   "source": [
    "## Test if all files are present"
   ]
  },
  {
   "cell_type": "code",
   "execution_count": 26,
   "metadata": {},
   "outputs": [],
   "source": [
    "for sensorName in SENSOR_NAMES:\n",
    "    for dataJunk in DATA_JUNKS:\n",
    "        \n",
    "        fileName = \"{0}-{1}.json\".format(dataJunk['prefix'], sensorName)\n",
    "        if not os.path.exists(PATH_RAW_DATA + fileName):\n",
    "            print(\"Error! Could not find file: \" + fileName)"
   ]
  },
  {
   "cell_type": "markdown",
   "metadata": {},
   "source": [
    "## Create filter methods\n",
    "\n",
    "Filter methods get the singleDataPoint element as first parameter and some filter criterians on further parameters:\n",
    "\n",
    "```json\n",
    "{\n",
    "    \"datetime\": \"2024-01-01T23:30:00+00:00\",\n",
    "    \"value\": \"0\",\n",
    "    \"valueKey\": \"van.out\"\n",
    "}\n",
    "\n",
    "```"
   ]
  },
  {
   "cell_type": "code",
   "execution_count": 27,
   "metadata": {},
   "outputs": [],
   "source": [
    "def filterDate(dataPoint, firstDate, lastDate):\n",
    "    firstD = datetime.date.fromisoformat(firstDate)\n",
    "    lastD = datetime.date.fromisoformat(lastDate)\n",
    "\n",
    "    dataPointDateTime = datetime.datetime.strptime(dataPoint['datetime'][:10], '%Y-%m-%d')\n",
    "    dataPointDate = dataPointDateTime.date()\n",
    "    \n",
    "    if dataPointDate < firstD:\n",
    "        return False\n",
    "    \n",
    "    if dataPointDate > lastD:\n",
    "        return False\n",
    "\n",
    "    return True\n",
    "\n",
    "def filterValueKey(dataPoint, allowedValueKeys):\n",
    "    return dataPoint['valueKey'] in allowedValueKeys"
   ]
  },
  {
   "cell_type": "markdown",
   "metadata": {},
   "source": [
    "**Test Filter**"
   ]
  },
  {
   "cell_type": "code",
   "execution_count": 28,
   "metadata": {},
   "outputs": [
    {
     "name": "stdout",
     "output_type": "stream",
     "text": [
      "Should find no entries for date: []\n",
      "Filter date First of Data: [{'datetime': '2024-01-01T23:30:00+00:00', 'value': '7', 'valueKey': 'bicycle.in'}]\n",
      "Filter date Last of Data: [{'datetime': '2024-01-03T23:30:00+00:00', 'value': '5', 'valueKey': 'bus.out'}]\n",
      "Filter all 'bus.out' [{'datetime': '2024-01-03T23:30:00+00:00', 'value': '5', 'valueKey': 'bus.out'}]\n",
      "Filter all 'foo.bar' []\n"
     ]
    }
   ],
   "source": [
    "singleDataPoints = [{\n",
    "        \"datetime\": \"2024-01-01T23:30:00+00:00\",\n",
    "        \"value\": \"7\",\n",
    "        \"valueKey\": \"bicycle.in\"\n",
    "    },\n",
    "    {\n",
    "        \"datetime\": \"2024-01-02T23:30:00+00:00\",\n",
    "        \"value\": \"2\",\n",
    "        \"valueKey\": \"motorbike.in\"\n",
    "    },\n",
    "    {\n",
    "        \"datetime\": \"2024-01-03T23:30:00+00:00\",\n",
    "        \"value\": \"5\",\n",
    "        \"valueKey\": \"bus.out\"\n",
    "    }\n",
    "]\n",
    "\n",
    "filter_WithoutEntries = [d for d in singleDataPoints if filterDate(d, \"2020-01-02\", \"2020-01-03\")] \n",
    "print(\"Should find no entries for date:\", filter_WithoutEntries)\n",
    "\n",
    "filter_LastOfQuarter = [d for d in singleDataPoints if filterDate(d, \"2023-12-03\", \"2024-01-01\")] \n",
    "print(\"Filter date First of Data:\", filter_LastOfQuarter)\n",
    "\n",
    "filter_FirstOfQuarter = [d for d in singleDataPoints if filterDate(d, \"2024-01-03\", \"2024-01-06\")] \n",
    "print(\"Filter date Last of Data:\", filter_FirstOfQuarter)\n",
    "\n",
    "filter_ValueKey = list(filter(lambda entry : filterValueKey(entry, ['bus.out']), singleDataPoints))\n",
    "print(\"Filter all 'bus.out'\", filter_ValueKey)\n",
    "\n",
    "filter_ValueKey_Empty = list(filter(lambda entry : filterValueKey(entry, ['foo.bar']), singleDataPoints))\n",
    "print(\"Filter all 'foo.bar'\", filter_ValueKey_Empty)\n",
    "\n"
   ]
  },
  {
   "cell_type": "markdown",
   "metadata": {},
   "source": [
    "## Create map methods\n"
   ]
  },
  {
   "cell_type": "code",
   "execution_count": 29,
   "metadata": {},
   "outputs": [],
   "source": [
    "def mapSingleDataPointsToDateFormat(singleDataPoints, allowedValueKeys):\n",
    "    mappedDates = {}\n",
    "\n",
    "    for singleDataPoint in singleDataPoints:\n",
    "\n",
    "        key = singleDataPoint['valueKey']\n",
    "\n",
    "        if key not in allowedValueKeys:\n",
    "            continue\n",
    "\n",
    "        datetimeRoundedToMinute = datetime.datetime.strptime(singleDataPoint['datetime'][:16], '%Y-%m-%dT%H:%M')\n",
    "        datetimeString = datetimeRoundedToMinute.strftime(\"%Y-%m-%d %H:%M:%S\")\n",
    "\n",
    "        if datetimeString not in mappedDates:\n",
    "            emptyValues = { \n",
    "                \"datetime\": datetimeString,\n",
    "                \"timestamp\": datetime.datetime.timestamp(datetimeRoundedToMinute)\n",
    "            }\n",
    "            for allowedKey in allowedValueKeys:\n",
    "                emptyValues[allowedKey] = 0\n",
    "            mappedDates[datetimeString] = emptyValues\n",
    "        \n",
    "        mappedDates[datetimeString][key] = singleDataPoint[\"value\"]\n",
    "\n",
    "    return mappedDates\n"
   ]
  },
  {
   "cell_type": "markdown",
   "metadata": {},
   "source": [
    "**Test map methods:**"
   ]
  },
  {
   "cell_type": "code",
   "execution_count": 30,
   "metadata": {},
   "outputs": [
    {
     "name": "stdout",
     "output_type": "stream",
     "text": [
      "{'2024-01-02 23:30:00': {'datetime': '2024-01-02 23:30:00', 'timestamp': 1704234600.0, 'bus.out': 0, 'motorbike.in': '2'}, '2024-01-03 23:30:00': {'datetime': '2024-01-03 23:30:00', 'timestamp': 1704321000.0, 'bus.out': '5', 'motorbike.in': 0}}\n"
     ]
    }
   ],
   "source": [
    "\n",
    "print(mapSingleDataPointsToDateFormat(singleDataPoints, ['bus.out', 'motorbike.in']))"
   ]
  },
  {
   "cell_type": "markdown",
   "metadata": {},
   "source": [
    "## Process Files"
   ]
  },
  {
   "cell_type": "code",
   "execution_count": 31,
   "metadata": {},
   "outputs": [],
   "source": [
    "fileData = {}\n",
    "\n",
    "for sensorName in SENSOR_NAMES:\n",
    "\n",
    "    sensorData = {\n",
    "        \"id\": None,\n",
    "        \"name\": None,\n",
    "        \"latitude\": None,\n",
    "        \"longitude\": None,\n",
    "        \"labelIdentifier\": None,\n",
    "        \"groupIdentifier\": None,\n",
    "        \"singleDataPoints\": {}        \n",
    "    }\n",
    "\n",
    "    for dataJunk in DATA_JUNKS:\n",
    "        \n",
    "        fileName = \"{0}-{1}.json\".format(dataJunk['prefix'], sensorName)\n",
    "        with open(PATH_RAW_DATA + fileName) as jsonFile:\n",
    "            jsonContent = json.load(jsonFile)\n",
    "            data = jsonContent[\"data\"][0]\n",
    "\n",
    "            if sensorData[\"id\"] is None:\n",
    "                sensorData[\"id\"] = data[\"id\"]\n",
    "                sensorData[\"name\"] = data[\"name\"]\n",
    "                sensorData[\"latitude\"] = data[\"latitude\"]\n",
    "                sensorData[\"longitude\"] = data[\"longitude\"]\n",
    "                sensorData[\"labelIdentifier\"] = data[\"labelIdentifier\"]\n",
    "                sensorData[\"groupIdentifier\"] = data[\"groupIdentifier\"]\n",
    "\n",
    "            dataPointsInDateRange = list(filter(lambda dataPoint: filterDate(dataPoint, dataJunk['first_date'], dataJunk['last_date']), data['singleDataPoints']))\n",
    "            \n",
    "            mappedDataPoints = mapSingleDataPointsToDateFormat(dataPointsInDateRange, VALID_VALUE_KEYS)\n",
    "                \n",
    "            sensorData['singleDataPoints'] = {**sensorData['singleDataPoints'], **mappedDataPoints}\n",
    "\n",
    "    fileData[sensorName] = sensorData"
   ]
  },
  {
   "cell_type": "code",
   "execution_count": 32,
   "metadata": {},
   "outputs": [],
   "source": [
    "for sensorName, sensorData in fileData.items():\n",
    "    with open(sensorName + '.json', 'w') as fp:\n",
    "        json.dump(sensorData, fp, indent=2)\n"
   ]
  },
  {
   "cell_type": "markdown",
   "metadata": {},
   "source": [
    "### Validate if all values are present in any sensor"
   ]
  },
  {
   "cell_type": "code",
   "execution_count": 33,
   "metadata": {},
   "outputs": [
    {
     "name": "stdout",
     "output_type": "stream",
     "text": [
      "Arkaden: 567\n",
      "FuZo_Eugen-Jaekle-Platz: 257\n",
      "FuZo_Olgastr: 446\n",
      "Brenzstr: 253\n",
      "Knoepfle_Nord: 13\n",
      "Knoepfle_Ost: 20\n"
     ]
    }
   ],
   "source": [
    "allDatesSet = set()\n",
    "\n",
    "for sensorName, sensorData in fileData.items():\n",
    "    datesOfSensor = list(sensorData['singleDataPoints'].keys())\n",
    "    allDatesSet.update(datesOfSensor)\n",
    "\n",
    "missingDatesForSensor = {}\n",
    "\n",
    "for sensorName, sensorData in fileData.items():\n",
    "    datesOfSensor = list(sensorData['singleDataPoints'].keys())\n",
    "\n",
    "    missingDatesForSensor[sensorName] = []\n",
    "\n",
    "    for date in allDatesSet:\n",
    "        if date not in datesOfSensor:\n",
    "            missingDatesForSensor[sensorName].append(date)\n",
    "\n",
    "    missingDatesForSensor[sensorName].sort()\n",
    "\n",
    "for sensorName, missingDates in missingDatesForSensor.items():\n",
    "    print(\"{0}: {1}\".format(sensorName, len(missingDates)))\n",
    "\n",
    "with open('missing_sensor_values.json', 'w') as fp:\n",
    "    json.dump(missingDatesForSensor, fp, indent=2)"
   ]
  }
 ],
 "metadata": {
  "kernelspec": {
   "display_name": "Python 3",
   "language": "python",
   "name": "python3"
  },
  "language_info": {
   "codemirror_mode": {
    "name": "ipython",
    "version": 3
   },
   "file_extension": ".py",
   "mimetype": "text/x-python",
   "name": "python",
   "nbconvert_exporter": "python",
   "pygments_lexer": "ipython3",
   "version": "3.12.1"
  }
 },
 "nbformat": 4,
 "nbformat_minor": 2
}
